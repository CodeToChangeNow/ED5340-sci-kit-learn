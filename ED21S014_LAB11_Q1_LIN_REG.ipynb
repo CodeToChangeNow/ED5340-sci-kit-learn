{
  "nbformat": 4,
  "nbformat_minor": 0,
  "metadata": {
    "colab": {
      "name": "ED21S014_LAB11_Q1_LIN_REG",
      "provenance": [],
      "collapsed_sections": []
    },
    "kernelspec": {
      "name": "python3",
      "display_name": "Python 3"
    },
    "language_info": {
      "name": "python"
    }
  },
  "cells": [
    {
      "cell_type": "markdown",
      "metadata": {
        "id": "FcZUkqlpnaSR"
      },
      "source": [
        "LAB 11 Solutions and Explanations\n",
        "\n",
        "Qn 1: Use the weblinks and reproduce the results for Linear regression, Logistic regression, SVM and PCA\n",
        "\n",
        "A) Linear regression : https://scikit-learn.org/stable/modules/generated/sklearn.linear_model.LinearRegression.html"
      ]
    },
    {
      "cell_type": "code",
      "metadata": {
        "id": "n9g0UomXndMH"
      },
      "source": [
        "import numpy as np\n",
        "import matplotlib.pyplot as plt\n",
        "\n",
        "from sklearn import datasets\n",
        "from sklearn.datasets import load_diabetes\n",
        "from sklearn.metrics import mean_squared_error, r2_score\n",
        "\n",
        "from sklearn.linear_model import LinearRegression"
      ],
      "execution_count": 563,
      "outputs": []
    },
    {
      "cell_type": "code",
      "metadata": {
        "id": "QfHpUnltvWVN",
        "colab": {
          "base_uri": "https://localhost:8080/"
        },
        "outputId": "55fb9f34-74a1-4462-9946-cd0a67bdcea5"
      },
      "source": [
        "data = load_diabetes()\n",
        "print(\"features:\", list(data.feature_names))\n",
        "print(\"target values:\", list(data.target))\n",
        "\n",
        "# Load the diabetes dataset\n",
        "diabetes_X, diabetes_y = datasets.load_diabetes(return_X_y=True)\n",
        "\n",
        "#print dataset dimensions and shape\n",
        "print(\"X dim:\",diabetes_X.ndim)\n",
        "print(\"X rows/samples:\",diabetes_X.shape[0])\n",
        "print(\"X cols/features:\",diabetes_X.shape[1])\n",
        "\n",
        "print(\"y dim:\",diabetes_y.ndim)\n",
        "print(\"y rows/samples value:\",diabetes_y.shape[0])\n",
        "\n",
        "# Use only one feature for illustartion\n",
        "diabetes_X = diabetes_X[:, np.newaxis, 2]\n",
        "\n",
        "# Split the data into training & testing sets\n",
        "diabetes_X_train = diabetes_X[:-30]\n",
        "diabetes_X_test = diabetes_X[-30:]\n",
        "\n",
        "# Split the targets into training & testing sets\n",
        "diabetes_y_train = diabetes_y[:-30]\n",
        "diabetes_y_test = diabetes_y[-30:]"
      ],
      "execution_count": 564,
      "outputs": [
        {
          "output_type": "stream",
          "name": "stdout",
          "text": [
            "features: ['age', 'sex', 'bmi', 'bp', 's1', 's2', 's3', 's4', 's5', 's6']\n",
            "target values: [151.0, 75.0, 141.0, 206.0, 135.0, 97.0, 138.0, 63.0, 110.0, 310.0, 101.0, 69.0, 179.0, 185.0, 118.0, 171.0, 166.0, 144.0, 97.0, 168.0, 68.0, 49.0, 68.0, 245.0, 184.0, 202.0, 137.0, 85.0, 131.0, 283.0, 129.0, 59.0, 341.0, 87.0, 65.0, 102.0, 265.0, 276.0, 252.0, 90.0, 100.0, 55.0, 61.0, 92.0, 259.0, 53.0, 190.0, 142.0, 75.0, 142.0, 155.0, 225.0, 59.0, 104.0, 182.0, 128.0, 52.0, 37.0, 170.0, 170.0, 61.0, 144.0, 52.0, 128.0, 71.0, 163.0, 150.0, 97.0, 160.0, 178.0, 48.0, 270.0, 202.0, 111.0, 85.0, 42.0, 170.0, 200.0, 252.0, 113.0, 143.0, 51.0, 52.0, 210.0, 65.0, 141.0, 55.0, 134.0, 42.0, 111.0, 98.0, 164.0, 48.0, 96.0, 90.0, 162.0, 150.0, 279.0, 92.0, 83.0, 128.0, 102.0, 302.0, 198.0, 95.0, 53.0, 134.0, 144.0, 232.0, 81.0, 104.0, 59.0, 246.0, 297.0, 258.0, 229.0, 275.0, 281.0, 179.0, 200.0, 200.0, 173.0, 180.0, 84.0, 121.0, 161.0, 99.0, 109.0, 115.0, 268.0, 274.0, 158.0, 107.0, 83.0, 103.0, 272.0, 85.0, 280.0, 336.0, 281.0, 118.0, 317.0, 235.0, 60.0, 174.0, 259.0, 178.0, 128.0, 96.0, 126.0, 288.0, 88.0, 292.0, 71.0, 197.0, 186.0, 25.0, 84.0, 96.0, 195.0, 53.0, 217.0, 172.0, 131.0, 214.0, 59.0, 70.0, 220.0, 268.0, 152.0, 47.0, 74.0, 295.0, 101.0, 151.0, 127.0, 237.0, 225.0, 81.0, 151.0, 107.0, 64.0, 138.0, 185.0, 265.0, 101.0, 137.0, 143.0, 141.0, 79.0, 292.0, 178.0, 91.0, 116.0, 86.0, 122.0, 72.0, 129.0, 142.0, 90.0, 158.0, 39.0, 196.0, 222.0, 277.0, 99.0, 196.0, 202.0, 155.0, 77.0, 191.0, 70.0, 73.0, 49.0, 65.0, 263.0, 248.0, 296.0, 214.0, 185.0, 78.0, 93.0, 252.0, 150.0, 77.0, 208.0, 77.0, 108.0, 160.0, 53.0, 220.0, 154.0, 259.0, 90.0, 246.0, 124.0, 67.0, 72.0, 257.0, 262.0, 275.0, 177.0, 71.0, 47.0, 187.0, 125.0, 78.0, 51.0, 258.0, 215.0, 303.0, 243.0, 91.0, 150.0, 310.0, 153.0, 346.0, 63.0, 89.0, 50.0, 39.0, 103.0, 308.0, 116.0, 145.0, 74.0, 45.0, 115.0, 264.0, 87.0, 202.0, 127.0, 182.0, 241.0, 66.0, 94.0, 283.0, 64.0, 102.0, 200.0, 265.0, 94.0, 230.0, 181.0, 156.0, 233.0, 60.0, 219.0, 80.0, 68.0, 332.0, 248.0, 84.0, 200.0, 55.0, 85.0, 89.0, 31.0, 129.0, 83.0, 275.0, 65.0, 198.0, 236.0, 253.0, 124.0, 44.0, 172.0, 114.0, 142.0, 109.0, 180.0, 144.0, 163.0, 147.0, 97.0, 220.0, 190.0, 109.0, 191.0, 122.0, 230.0, 242.0, 248.0, 249.0, 192.0, 131.0, 237.0, 78.0, 135.0, 244.0, 199.0, 270.0, 164.0, 72.0, 96.0, 306.0, 91.0, 214.0, 95.0, 216.0, 263.0, 178.0, 113.0, 200.0, 139.0, 139.0, 88.0, 148.0, 88.0, 243.0, 71.0, 77.0, 109.0, 272.0, 60.0, 54.0, 221.0, 90.0, 311.0, 281.0, 182.0, 321.0, 58.0, 262.0, 206.0, 233.0, 242.0, 123.0, 167.0, 63.0, 197.0, 71.0, 168.0, 140.0, 217.0, 121.0, 235.0, 245.0, 40.0, 52.0, 104.0, 132.0, 88.0, 69.0, 219.0, 72.0, 201.0, 110.0, 51.0, 277.0, 63.0, 118.0, 69.0, 273.0, 258.0, 43.0, 198.0, 242.0, 232.0, 175.0, 93.0, 168.0, 275.0, 293.0, 281.0, 72.0, 140.0, 189.0, 181.0, 209.0, 136.0, 261.0, 113.0, 131.0, 174.0, 257.0, 55.0, 84.0, 42.0, 146.0, 212.0, 233.0, 91.0, 111.0, 152.0, 120.0, 67.0, 310.0, 94.0, 183.0, 66.0, 173.0, 72.0, 49.0, 64.0, 48.0, 178.0, 104.0, 132.0, 220.0, 57.0]\n",
            "X dim: 2\n",
            "X rows/samples: 442\n",
            "X cols/features: 10\n",
            "y dim: 1\n",
            "y rows/samples value: 442\n"
          ]
        }
      ]
    },
    {
      "cell_type": "code",
      "metadata": {
        "id": "HMgnQKBLn9gv",
        "colab": {
          "base_uri": "https://localhost:8080/"
        },
        "outputId": "53f4adc2-c143-402b-bacd-5eb64b225237"
      },
      "source": [
        "#Fit or train Linear regression model to train dataset without initial weights\n",
        "reg = LinearRegression().fit(diabetes_X_train, diabetes_y_train)\n",
        "print(\"model parameters:\\n\", reg.get_params)"
      ],
      "execution_count": 565,
      "outputs": [
        {
          "output_type": "stream",
          "name": "stdout",
          "text": [
            "model parameters:\n",
            " <bound method BaseEstimator.get_params of LinearRegression(copy_X=True, fit_intercept=True, n_jobs=None, normalize=False)>\n"
          ]
        }
      ]
    },
    {
      "cell_type": "code",
      "metadata": {
        "colab": {
          "base_uri": "https://localhost:8080/"
        },
        "id": "feRrQhVKvrG3",
        "outputId": "55e3a0f3-d979-4be6-c267-875cf01c94d8"
      },
      "source": [
        "#predict target value for test dataest on trained model\n",
        "diabetes_y_pred = reg.predict(diabetes_X_test)\n",
        "print(\"predicted output:\", diabetes_y_pred)"
      ],
      "execution_count": 566,
      "outputs": [
        {
          "output_type": "stream",
          "name": "stdout",
          "text": [
            "predicted output: [233.80294072 152.62808714 159.73088683 161.76025817 228.72951237\n",
            " 220.61202701 130.3050024  101.89380365 119.14346004 168.86305786\n",
            " 226.70014103 116.09940303 163.78962951 115.08471736 121.17283138\n",
            " 158.71620116 236.84699773 122.18751705  99.86443231 124.21688839\n",
            " 205.39174197  96.8203753  154.65745848 131.31968807  83.62946159\n",
            " 171.90711487 138.42248776 138.42248776 190.17145692  84.64414726]\n"
          ]
        }
      ]
    },
    {
      "cell_type": "code",
      "metadata": {
        "colab": {
          "base_uri": "https://localhost:8080/"
        },
        "id": "UJ8yCCO5vzzZ",
        "outputId": "827e1823-2f10-4a30-ceff-44f429875734"
      },
      "source": [
        "#print model metrics\n",
        "print('Coefficient of feature after training:', reg.coef_)\n",
        "print('Mean squared error: %.2f'\n",
        "      % mean_squared_error(diabetes_y_test, diabetes_y_pred))\n",
        "# The coefficient of determination: 1 is perfect prediction\n",
        "print('Coefficient of determination: %.2f'\n",
        "      % r2_score(diabetes_y_test, diabetes_y_pred))"
      ],
      "execution_count": 567,
      "outputs": [
        {
          "output_type": "stream",
          "name": "stdout",
          "text": [
            "Coefficient of feature after training: [941.43097333]\n",
            "Mean squared error: 3035.06\n",
            "Coefficient of determination: 0.41\n"
          ]
        }
      ]
    },
    {
      "cell_type": "code",
      "metadata": {
        "colab": {
          "base_uri": "https://localhost:8080/",
          "height": 278
        },
        "id": "sKqxWabnq7sg",
        "outputId": "d0b9e353-6419-4b3e-9a0f-32092caa1102"
      },
      "source": [
        "#Plot output\n",
        "plt.scatter(diabetes_X_test, diabetes_y_test,  color='black')\n",
        "plt.plot(diabetes_X_test, diabetes_y_pred, color='blue', linewidth=3)\n",
        "\n",
        "plt.xticks(())\n",
        "plt.yticks(())\n",
        "\n",
        "plt.xlabel(\"feature\")\n",
        "plt.ylabel(\"diabetic\")\n",
        "plt.title(\"model fitting without initial weights\")\n",
        "\n",
        "plt.show()"
      ],
      "execution_count": 568,
      "outputs": [
        {
          "output_type": "display_data",
          "data": {
            "image/png": "[encoded data removed]",
            "text/plain": [
              "<Figure size 432x288 with 1 Axes>"
            ]
          },
          "metadata": {}
        }
      ]
    },
    {
      "cell_type": "markdown",
      "metadata": {
        "id": "fZQe9XRZwf0_"
      },
      "source": [
        "Only the first feature of the diabetes dataset is used for illustration. The line plot shows how well linear regression model fitting seeks to find a straight line that best minimizes the residual sum of squares between the observed responses (Y_test) in the dataset, and the responses predicted by the model (Y_predicted)."
      ]
    },
    {
      "cell_type": "code",
      "metadata": {
        "colab": {
          "base_uri": "https://localhost:8080/"
        },
        "id": "6x8JwcBpz9uw",
        "outputId": "27e0ab27-e9dd-4995-a51a-a866c6a01144"
      },
      "source": [
        "#Fit or train Linear regression model to train dataset with initial random weights\n",
        "reg = LinearRegression().fit(diabetes_X_train, diabetes_y_train, sample_weight = np.random.uniform(low=0.0, high=10.0, size=(412,)))\n",
        "print(\"model parameters:\", reg.get_params)"
      ],
      "execution_count": 569,
      "outputs": [
        {
          "output_type": "stream",
          "name": "stdout",
          "text": [
            "model parameters: <bound method BaseEstimator.get_params of LinearRegression(copy_X=True, fit_intercept=True, n_jobs=None, normalize=False)>\n"
          ]
        }
      ]
    },
    {
      "cell_type": "code",
      "metadata": {
        "colab": {
          "base_uri": "https://localhost:8080/"
        },
        "id": "zLufFrTS0oLH",
        "outputId": "2ddf9410-f45a-4cf2-83ec-f448f7ba00c6"
      },
      "source": [
        "#predict target value for test dataest on trained model\n",
        "diabetes_y_pred = reg.predict(diabetes_X_test)\n",
        "print(diabetes_y_pred)"
      ],
      "execution_count": 570,
      "outputs": [
        {
          "output_type": "stream",
          "name": "stdout",
          "text": [
            "[231.47648428 150.93623318 157.98350515 159.99701143 226.44271858\n",
            " 218.38869347 128.78766413 100.59857624 117.7133796  167.0442834\n",
            " 224.4292123  114.69312019 162.01051771 113.68636705 119.72688588\n",
            " 156.97675201 234.49674369 120.73363902  98.58506997 122.7471453\n",
            " 203.28739639  95.56481055 152.94973946 129.79441727  82.47701975\n",
            " 170.06454281 136.84168924 136.84168924 188.18609931  83.48377289]\n"
          ]
        }
      ]
    },
    {
      "cell_type": "code",
      "metadata": {
        "colab": {
          "base_uri": "https://localhost:8080/"
        },
        "id": "b6PDrfXM0q-8",
        "outputId": "a7641bca-12db-4102-a6cc-6bc93d569d00"
      },
      "source": [
        "#print model metrics\n",
        "print('Coefficient of feature after training:', reg.coef_)\n",
        "print('Mean squared error: %.2f'\n",
        "      % mean_squared_error(diabetes_y_test, diabetes_y_pred))\n",
        "# The coefficient of determination: 1 is perfect prediction\n",
        "print('Coefficient of determination: %.2f'\n",
        "      % r2_score(diabetes_y_test, diabetes_y_pred))"
      ],
      "execution_count": 571,
      "outputs": [
        {
          "output_type": "stream",
          "name": "stdout",
          "text": [
            "Coefficient of feature after training: [934.07112715]\n",
            "Mean squared error: 2978.73\n",
            "Coefficient of determination: 0.42\n"
          ]
        }
      ]
    },
    {
      "cell_type": "code",
      "metadata": {
        "colab": {
          "base_uri": "https://localhost:8080/",
          "height": 278
        },
        "id": "5f3pul2G0ruM",
        "outputId": "78d03562-ab32-4c26-a440-d81979e1d244"
      },
      "source": [
        "#Plot output\n",
        "plt.scatter(diabetes_X_test, diabetes_y_test,  color='black')\n",
        "plt.plot(diabetes_X_test, diabetes_y_pred, color='blue', linewidth=3)\n",
        "\n",
        "plt.xticks(())\n",
        "plt.yticks(())\n",
        "\n",
        "plt.xlabel(\"feature\")\n",
        "plt.ylabel(\"diabetic\")\n",
        "plt.title(\"model fitting with initial random weights\")\n",
        "\n",
        "plt.show()"
      ],
      "execution_count": 572,
      "outputs": [
        {
          "output_type": "display_data",
          "data": {
            "image/png": "[encoded data removed]",
            "text/plain": [
              "<Figure size 432x288 with 1 Axes>"
            ]
          },
          "metadata": {}
        }
      ]
    }
  ]
}