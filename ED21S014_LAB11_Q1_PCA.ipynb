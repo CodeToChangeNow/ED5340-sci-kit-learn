{
  "nbformat": 4,
  "nbformat_minor": 0,
  "metadata": {
    "colab": {
      "name": "ED21S014_LAB11_Q1_PCA",
      "provenance": []
    },
    "kernelspec": {
      "name": "python3",
      "display_name": "Python 3"
    },
    "language_info": {
      "name": "python"
    }
  },
  "cells": [
    {
      "cell_type": "markdown",
      "metadata": {
        "id": "x0atKE81xGSS"
      },
      "source": [
        "LAB 11 Solutions and Explanations\n",
        "\n",
        "Qn 1: Use the weblinks and reproduce the results for Linear regression, Logistic regression, SVM and PCA\n",
        "\n",
        "D) PCA: https://scikit-learn.org/stable/modules/generated/sklearn.decomposition.PCA.html"
      ]
    },
    {
      "cell_type": "code",
      "metadata": {
        "id": "7CgCUhkPw6Ne"
      },
      "source": [
        "import numpy as np\n",
        "from sklearn.decomposition import PCA\n",
        "X = np.array([[-1, -1], [-2, -1], [-3, -2], [1, 1], [2, 1], [3, 2]])"
      ],
      "execution_count": 26,
      "outputs": []
    },
    {
      "cell_type": "code",
      "metadata": {
        "colab": {
          "base_uri": "https://localhost:8080/"
        },
        "id": "bGL4Rh3OHcxA",
        "outputId": "4b56bf1b-d081-4f5d-f824-1634cba7d30c"
      },
      "source": [
        "print(\"pca model keeping all component\")\n",
        "print(\"1.pca without whitening\")\n",
        "pca = PCA()\n",
        "pca.fit(X)\n",
        "print(\"Average log-likelihood of the samples under the current model:\",pca.score(X))\n",
        "print(\"Percentage of variance explained by each of the selected components:\", pca.explained_variance_ratio_)\n",
        "print(\"2-norms of the n_components variables:\", pca.singular_values_)\n",
        "\n",
        "print(\"2.pca with whitening\")\n",
        "pca = PCA(whiten=True)\n",
        "pca.fit(X)\n",
        "print(\"Average log-likelihood of each samples under the current model:\",pca.score(X))\n",
        "print(\"Percentage of variance explained by each of the selected components:\", pca.explained_variance_ratio_)\n",
        "print(\"2-norms of the n_components variables:\", pca.singular_values_)"
      ],
      "execution_count": 27,
      "outputs": [
        {
          "output_type": "stream",
          "name": "stdout",
          "text": [
            "pca model keeping all component\n",
            "1.pca without whitening\n",
            "Average log-likelihood of the samples under the current model: -2.3042258122025783\n",
            "Percentage of variance explained by each of the selected components: [0.99244289 0.00755711]\n",
            "2-norms of the n_components variables: [6.30061232 0.54980396]\n",
            "2.pca with whitening\n",
            "Average log-likelihood of each samples under the current model: -8.048352335770117\n",
            "Percentage of variance explained by each of the selected components: [0.99244289 0.00755711]\n",
            "2-norms of the n_components variables: [6.30061232 0.54980396]\n"
          ]
        }
      ]
    },
    {
      "cell_type": "code",
      "metadata": {
        "colab": {
          "base_uri": "https://localhost:8080/"
        },
        "id": "sAjEl9wOw9fm",
        "outputId": "aec4c8bd-eb69-4cc3-f8f7-442c809ce2d4"
      },
      "source": [
        "print(\"pca model keeping 1 component\")\n",
        "print(\"1.pca without whitening\")\n",
        "pca = PCA(n_components=1)\n",
        "pca.fit(X)\n",
        "print(\"Average log-likelihood of the samples under the current model:\",pca.score(X))\n",
        "print(\"Percentage of variance explained by each of the selected components:\", pca.explained_variance_ratio_)\n",
        "print(\"2-norms of the n_components variables:\", pca.singular_values_)\n",
        "\n",
        "print(\"2.pca with whitening\")\n",
        "pca = PCA(n_components=1, whiten=True)\n",
        "pca.fit(X)\n",
        "print(\"Average log-likelihood of the samples under the current model:\",pca.score(X))\n",
        "print(\"Percentage of variance explained by each of the selected components:\", pca.explained_variance_ratio_)\n",
        "print(\"2-norms of the n_components variables:\", pca.singular_values_)"
      ],
      "execution_count": 28,
      "outputs": [
        {
          "output_type": "stream",
          "name": "stdout",
          "text": [
            "pca model keeping 1 component\n",
            "1.pca without whitening\n",
            "Average log-likelihood of the samples under the current model: -2.304225812202576\n",
            "Percentage of variance explained by each of the selected components: [0.99244289]\n",
            "2-norms of the n_components variables: [6.30061232]\n",
            "2.pca with whitening\n",
            "Average log-likelihood of the samples under the current model: -2.972979654859703\n",
            "Percentage of variance explained by each of the selected components: [0.99244289]\n",
            "2-norms of the n_components variables: [6.30061232]\n"
          ]
        }
      ]
    },
    {
      "cell_type": "code",
      "metadata": {
        "colab": {
          "base_uri": "https://localhost:8080/"
        },
        "id": "0035bSycGrhq",
        "outputId": "ad824dd1-3202-4972-b577-2cb51c192d7b"
      },
      "source": [
        "print(\"pca model keeping 2 component\")\n",
        "print(\"1.pca without whitening\")\n",
        "pca = PCA(n_components=2)\n",
        "pca.fit(X)\n",
        "print(\"Average log-likelihood of the samples under the current model:\",pca.score(X))\n",
        "print(\"Percentage of variance explained by each of the selected components:\", pca.explained_variance_ratio_)\n",
        "print(\"2-norms of the n_components variables:\", pca.singular_values_)\n",
        "\n",
        "print(\"2.pca with whitening\")\n",
        "pca = PCA(n_components=2, whiten=True)\n",
        "pca.fit(X)\n",
        "print(\"Average log-likelihood of the samples under the current model:\",pca.score(X))\n",
        "print(\"Percentage of variance explained by each of the selected components:\", pca.explained_variance_ratio_)\n",
        "print(\"2-norms of the n_components variables:\", pca.singular_values_)"
      ],
      "execution_count": 29,
      "outputs": [
        {
          "output_type": "stream",
          "name": "stdout",
          "text": [
            "pca model keeping 2 component\n",
            "1.pca without whitening\n",
            "Average log-likelihood of the samples under the current model: -2.3042258122025783\n",
            "Percentage of variance explained by each of the selected components: [0.99244289 0.00755711]\n",
            "2-norms of the n_components variables: [6.30061232 0.54980396]\n",
            "2.pca with whitening\n",
            "Average log-likelihood of the samples under the current model: -8.048352335770117\n",
            "Percentage of variance explained by each of the selected components: [0.99244289 0.00755711]\n",
            "2-norms of the n_components variables: [6.30061232 0.54980396]\n"
          ]
        }
      ]
    }
  ]
}