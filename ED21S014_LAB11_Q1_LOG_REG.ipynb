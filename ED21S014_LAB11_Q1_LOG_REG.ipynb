{
  "nbformat": 4,
  "nbformat_minor": 0,
  "metadata": {
    "colab": {
      "name": "ED21S014_LAB11_Q1_LOG_REG",
      "provenance": []
    },
    "kernelspec": {
      "name": "python3",
      "display_name": "Python 3"
    },
    "language_info": {
      "name": "python"
    }
  },
  "cells": [
    {
      "cell_type": "markdown",
      "metadata": {
        "id": "EGYUg9k-u88M"
      },
      "source": [
        "\n",
        "LAB 11 Solutions and Explanations\n",
        "\n",
        "Qn 1: Use the weblinks and reproduce the results for Linear regression, Logistic regression, SVM and PCA\n",
        "\n",
        "B) Logisitic regression : https://scikit-learn.org/stable/modules/generated/sklearn.linear_model.LogisticRegression.html\n"
      ]
    },
    {
      "cell_type": "code",
      "metadata": {
        "colab": {
          "base_uri": "https://localhost:8080/"
        },
        "id": "ollYd-msvLMV",
        "outputId": "82cd475a-fbac-41ac-e9de-4a58c0f45823"
      },
      "source": [
        "import numpy as np\n",
        "from sklearn.datasets import load_iris\n",
        "from sklearn.linear_model import LogisticRegression\n",
        "#print characteristics of dataset \n",
        "data = load_iris()\n",
        "print(\"names of dataset columns:\", list(data.feature_names))\n",
        "print(\"target names:\", list(data.target_names))\n",
        "\n",
        "#print dataset dimensions and shape\n",
        "X, y = load_iris(return_X_y=True)\n",
        "print(\"X dim:\",X.ndim)\n",
        "print(\"X rows/samples:\",X.shape[0])\n",
        "print(\"X cols/features:\",X.shape[1])\n",
        "#print(y)#three classes of iris (0,1,2)\n",
        "\n",
        "print(\"y dim:\",y.ndim)\n",
        "print(\"y rows/samples value:\",y.shape[0])"
      ],
      "execution_count": 29,
      "outputs": [
        {
          "output_type": "stream",
          "name": "stdout",
          "text": [
            "names of dataset columns: ['sepal length (cm)', 'sepal width (cm)', 'petal length (cm)', 'petal width (cm)']\n",
            "target names: ['setosa', 'versicolor', 'virginica']\n",
            "X dim: 2\n",
            "X rows/samples: 150\n",
            "X cols/features: 4\n",
            "y dim: 1\n",
            "y rows/samples value: 150\n"
          ]
        }
      ]
    },
    {
      "cell_type": "markdown",
      "metadata": {
        "id": "li8UUF_lvPaA"
      },
      "source": [
        "\n",
        "\n",
        "class sklearn.linear_model.LogisticRegression(penalty='l2', *, dual=False, tol=0.0001, C=1.0, fit_intercept=True, intercept_scaling=1, class_weight=None, random_state=None, solver='lbfgs', max_iter=100, multi_class='auto', verbose=0, warm_start=False, n_jobs=None, l1_ratio=None)"
      ]
    },
    {
      "cell_type": "code",
      "metadata": {
        "colab": {
          "base_uri": "https://localhost:8080/"
        },
        "id": "_Q8WQ9iavRyp",
        "outputId": "25f69715-380f-458f-d0d3-4362ba5d8be3"
      },
      "source": [
        "print(\"using default initialisation parameters\")\n",
        "clf = LogisticRegression(random_state=0, max_iter=1000).fit(X, y)\n",
        "print(\"log reg prediction:\", clf.predict(X[:2, :]))\n",
        "print(\"log reg prediction score:\", clf.score(X, y))\n",
        "print(\"coefficient of features in decision function:\", clf.coef_)\n",
        "print(\"bias:\", clf.intercept_)\n",
        "print(\"number of iterations accross all classes:\", clf.n_iter_)\n",
        "print(\"parameters list for model:\", clf.get_params())"
      ],
      "execution_count": 30,
      "outputs": [
        {
          "output_type": "stream",
          "name": "stdout",
          "text": [
            "using default initialisation parameters\n",
            "log reg prediction: [0 0]\n",
            "log reg prediction score: 0.9733333333333334\n",
            "coefficient of features in decision function: [[-0.42316549  0.96688516 -2.51669376 -1.08078412]\n",
            " [ 0.53431322 -0.32159716 -0.20666272 -0.94355211]\n",
            " [-0.11114773 -0.645288    2.72335648  2.02433623]]\n",
            "bias: [  9.84902418   2.23817992 -12.0872041 ]\n",
            "number of iterations accross all classes: [115]\n",
            "parameters list for model: {'C': 1.0, 'class_weight': None, 'dual': False, 'fit_intercept': True, 'intercept_scaling': 1, 'l1_ratio': None, 'max_iter': 1000, 'multi_class': 'auto', 'n_jobs': None, 'penalty': 'l2', 'random_state': 0, 'solver': 'lbfgs', 'tol': 0.0001, 'verbose': 0, 'warm_start': False}\n"
          ]
        }
      ]
    },
    {
      "cell_type": "code",
      "metadata": {
        "colab": {
          "base_uri": "https://localhost:8080/"
        },
        "id": "a6e2FM6xvT3q",
        "outputId": "a5719180-9465-4678-82a5-f79837b13472"
      },
      "source": [
        "print(\"using fit_intercept=False\")\n",
        "clf = LogisticRegression(random_state=0, max_iter=1000, fit_intercept=False).fit(X, y)\n",
        "print(\"log reg prediction:\", clf.predict(X[:2, :]))\n",
        "print(\"log reg prediction score:\", clf.score(X, y))\n",
        "print(\"coefficient of features in decision function:\", clf.coef_)\n",
        "print(\"bias:\", clf.intercept_)\n",
        "print(\"number of iterations accross all classes:\", clf.n_iter_)\n",
        "print(\"parameters list for model:\", clf.get_params())"
      ],
      "execution_count": 31,
      "outputs": [
        {
          "output_type": "stream",
          "name": "stdout",
          "text": [
            "using fit_intercept=False\n",
            "log reg prediction: [0 0]\n",
            "log reg prediction score: 0.9666666666666667\n",
            "coefficient of features in decision function: [[ 0.77433982  1.74702228 -2.34860274 -1.11227851]\n",
            " [ 0.6234361  -0.09428645 -0.04476242 -1.02178783]\n",
            " [-1.39777592 -1.65273583  2.39336516  2.13406633]]\n",
            "bias: [0. 0. 0.]\n",
            "number of iterations accross all classes: [50]\n",
            "parameters list for model: {'C': 1.0, 'class_weight': None, 'dual': False, 'fit_intercept': False, 'intercept_scaling': 1, 'l1_ratio': None, 'max_iter': 1000, 'multi_class': 'auto', 'n_jobs': None, 'penalty': 'l2', 'random_state': 0, 'solver': 'lbfgs', 'tol': 0.0001, 'verbose': 0, 'warm_start': False}\n"
          ]
        }
      ]
    },
    {
      "cell_type": "code",
      "metadata": {
        "colab": {
          "base_uri": "https://localhost:8080/"
        },
        "id": "CqXLaMd7vUNR",
        "outputId": "dd2559f7-193c-49da-b67d-ecff637fe144"
      },
      "source": [
        "print(\"using tol=0.1\")\n",
        "clf = LogisticRegression(random_state=0, max_iter=1000, tol=0.01).fit(X, y)\n",
        "print(\"log reg prediction:\", clf.predict(X[:2, :]))\n",
        "print(\"log reg prediction score:\", clf.score(X, y))\n",
        "print(\"coefficient of features in decision function:\", clf.coef_)\n",
        "print(\"bias:\", clf.intercept_)\n",
        "print(\"number of iterations accross all classes:\", clf.n_iter_)\n",
        "print(\"parameters list for model:\", clf.get_params())"
      ],
      "execution_count": 32,
      "outputs": [
        {
          "output_type": "stream",
          "name": "stdout",
          "text": [
            "using tol=0.1\n",
            "log reg prediction: [0 0]\n",
            "log reg prediction score: 0.9733333333333334\n",
            "coefficient of features in decision function: [[-0.42331915  0.96662855 -2.51650116 -1.08076895]\n",
            " [ 0.53417397 -0.32126057 -0.20653936 -0.94363811]\n",
            " [-0.11085481 -0.64536799  2.72304052  2.02440706]]\n",
            "bias: [  9.8496201   2.237713  -12.0873331]\n",
            "number of iterations accross all classes: [111]\n",
            "parameters list for model: {'C': 1.0, 'class_weight': None, 'dual': False, 'fit_intercept': True, 'intercept_scaling': 1, 'l1_ratio': None, 'max_iter': 1000, 'multi_class': 'auto', 'n_jobs': None, 'penalty': 'l2', 'random_state': 0, 'solver': 'lbfgs', 'tol': 0.01, 'verbose': 0, 'warm_start': False}\n"
          ]
        }
      ]
    },
    {
      "cell_type": "code",
      "metadata": {
        "colab": {
          "base_uri": "https://localhost:8080/"
        },
        "id": "PTxDubyYvUWd",
        "outputId": "7849921d-bb6a-41d8-ab98-8c6447df9c1b"
      },
      "source": [
        "print(\"using multi_class='multinomial' or cross entropy loss funtion\")\n",
        "clf = LogisticRegression(random_state=0, max_iter=1000, multi_class='multinomial').fit(X, y)\n",
        "print(\"log reg prediction:\", clf.predict(X[:2, :]))\n",
        "print(\"log reg prediction score:\", clf.score(X, y))\n",
        "print(\"coefficient of features in decision function:\", clf.coef_)\n",
        "print(\"bias:\", clf.intercept_)\n",
        "print(\"number of iterations accross all classes:\", clf.n_iter_)\n",
        "print(\"parameters list for model:\", clf.get_params())"
      ],
      "execution_count": 33,
      "outputs": [
        {
          "output_type": "stream",
          "name": "stdout",
          "text": [
            "using multi_class='multinomial' or cross entropy loss funtion\n",
            "log reg prediction: [0 0]\n",
            "log reg prediction score: 0.9733333333333334\n",
            "coefficient of features in decision function: [[-0.42316549  0.96688516 -2.51669376 -1.08078412]\n",
            " [ 0.53431322 -0.32159716 -0.20666272 -0.94355211]\n",
            " [-0.11114773 -0.645288    2.72335648  2.02433623]]\n",
            "bias: [  9.84902418   2.23817992 -12.0872041 ]\n",
            "number of iterations accross all classes: [115]\n",
            "parameters list for model: {'C': 1.0, 'class_weight': None, 'dual': False, 'fit_intercept': True, 'intercept_scaling': 1, 'l1_ratio': None, 'max_iter': 1000, 'multi_class': 'multinomial', 'n_jobs': None, 'penalty': 'l2', 'random_state': 0, 'solver': 'lbfgs', 'tol': 0.0001, 'verbose': 0, 'warm_start': False}\n"
          ]
        }
      ]
    },
    {
      "cell_type": "code",
      "metadata": {
        "colab": {
          "base_uri": "https://localhost:8080/"
        },
        "id": "k4O2TacGvUe4",
        "outputId": "e5184a53-61a6-406b-b0ff-43b267e73074"
      },
      "source": [
        "print(\"using class_weight=’balanced’\")\n",
        "#The “balanced” mode uses the values of y to automatically adjust weights inversely proportional to class frequencies in the input data as n_samples / (n_classes * np.bincount(y)).\n",
        "clf = LogisticRegression(random_state=0, max_iter=1000, class_weight='balanced').fit(X, y)\n",
        "print(\"log reg prediction:\", clf.predict(X[:2, :]))\n",
        "print(\"log reg prediction score:\", clf.score(X, y))\n",
        "print(\"coefficient of features in decision function:\", clf.coef_)\n",
        "print(\"bias:\", clf.intercept_)\n",
        "print(\"number of iterations accross all classes:\", clf.n_iter_)\n",
        "print(\"parameters list for model:\", clf.get_params())"
      ],
      "execution_count": 34,
      "outputs": [
        {
          "output_type": "stream",
          "name": "stdout",
          "text": [
            "using class_weight=’balanced’\n",
            "log reg prediction: [0 0]\n",
            "log reg prediction score: 0.9733333333333334\n",
            "coefficient of features in decision function: [[-0.42316549  0.96688516 -2.51669376 -1.08078412]\n",
            " [ 0.53431322 -0.32159716 -0.20666272 -0.94355211]\n",
            " [-0.11114773 -0.645288    2.72335648  2.02433623]]\n",
            "bias: [  9.84902418   2.23817992 -12.0872041 ]\n",
            "number of iterations accross all classes: [115]\n",
            "parameters list for model: {'C': 1.0, 'class_weight': 'balanced', 'dual': False, 'fit_intercept': True, 'intercept_scaling': 1, 'l1_ratio': None, 'max_iter': 1000, 'multi_class': 'auto', 'n_jobs': None, 'penalty': 'l2', 'random_state': 0, 'solver': 'lbfgs', 'tol': 0.0001, 'verbose': 0, 'warm_start': False}\n"
          ]
        }
      ]
    },
    {
      "cell_type": "code",
      "metadata": {
        "colab": {
          "base_uri": "https://localhost:8080/"
        },
        "id": "EBlgH105vawF",
        "outputId": "5c9d71a2-b73a-4c8d-86a6-e8ecd565d2eb"
      },
      "source": [
        "print(\"using random initial sample weight\")\n",
        "clf = LogisticRegression(random_state=0, max_iter=1000).fit(X, y, sample_weight = np.random.uniform(low=0.0, high=1.0, size=(150,)))\n",
        "print(\"log reg prediction:\", clf.predict(X[:2, :]))\n",
        "print(\"log reg prediction score:\", clf.score(X, y))\n",
        "print(\"coefficient of features in decision function:\", clf.coef_)\n",
        "print(\"bias:\", clf.intercept_)\n",
        "print(\"number of iterations accross all classes:\", clf.n_iter_)\n",
        "print(\"parameters list for model:\", clf.get_params())"
      ],
      "execution_count": 35,
      "outputs": [
        {
          "output_type": "stream",
          "name": "stdout",
          "text": [
            "using random initial sample weight\n",
            "log reg prediction: [0 0]\n",
            "log reg prediction score: 0.9866666666666667\n",
            "coefficient of features in decision function: [[-0.33775018  0.78866935 -2.06574858 -0.86349043]\n",
            " [ 0.53147415 -0.36195354 -0.19742574 -0.5836602 ]\n",
            " [-0.19372397 -0.42671581  2.26317432  1.44715063]]\n",
            "bias: [ 7.85588175  1.42504059 -9.28092234]\n",
            "number of iterations accross all classes: [82]\n",
            "parameters list for model: {'C': 1.0, 'class_weight': None, 'dual': False, 'fit_intercept': True, 'intercept_scaling': 1, 'l1_ratio': None, 'max_iter': 1000, 'multi_class': 'auto', 'n_jobs': None, 'penalty': 'l2', 'random_state': 0, 'solver': 'lbfgs', 'tol': 0.0001, 'verbose': 0, 'warm_start': False}\n"
          ]
        }
      ]
    },
    {
      "cell_type": "code",
      "metadata": {
        "colab": {
          "base_uri": "https://localhost:8080/"
        },
        "id": "hrzP0PJDvazb",
        "outputId": "d2ac30c9-210d-4356-a248-9e22ab03199d"
      },
      "source": [
        "print(\"using stronger regularisation strength\")\n",
        "clf = LogisticRegression(random_state=0, max_iter=1000, C= 0.1).fit(X, y)\n",
        "print(\"log reg prediction:\", clf.predict(X[:2, :]))\n",
        "print(\"log reg prediction score:\", clf.score(X, y))\n",
        "print(\"coefficient of features in decision function:\", clf.coef_)\n",
        "print(\"bias:\", clf.intercept_)\n",
        "print(\"number of iterations accross all classes:\", clf.n_iter_)\n",
        "print(\"parameters list for model:\", clf.get_params())"
      ],
      "execution_count": 36,
      "outputs": [
        {
          "output_type": "stream",
          "name": "stdout",
          "text": [
            "using stronger regularisation strength\n",
            "log reg prediction: [0 0]\n",
            "log reg prediction score: 0.96\n",
            "coefficient of features in decision function: [[-0.30245855  0.34626876 -1.1811841  -0.48002144]\n",
            " [ 0.0709291  -0.33152656  0.07289077 -0.23053665]\n",
            " [ 0.23152945 -0.0147422   1.10829333  0.71055808]]\n",
            "bias: [ 5.32612723  1.59006332 -6.91619054]\n",
            "number of iterations accross all classes: [89]\n",
            "parameters list for model: {'C': 0.1, 'class_weight': None, 'dual': False, 'fit_intercept': True, 'intercept_scaling': 1, 'l1_ratio': None, 'max_iter': 1000, 'multi_class': 'auto', 'n_jobs': None, 'penalty': 'l2', 'random_state': 0, 'solver': 'lbfgs', 'tol': 0.0001, 'verbose': 0, 'warm_start': False}\n"
          ]
        }
      ]
    },
    {
      "cell_type": "code",
      "metadata": {
        "colab": {
          "base_uri": "https://localhost:8080/"
        },
        "id": "C731lDDPvfH-",
        "outputId": "3b613c2d-52fb-42e2-8144-faa62bf3597d"
      },
      "source": [
        "print(\"using all above combinations\")\n",
        "clf = LogisticRegression(random_state=0, max_iter=1000, tol=0.01, multi_class='multinomial', class_weight='balanced', C= 0.1).fit(X, y, sample_weight = np.random.uniform(low=0.0, high=1.0, size=(150,)))\n",
        "print(\"log reg prediction:\", clf.predict(X[:2, :]))\n",
        "print(\"log reg prediction score:\", clf.score(X, y))\n",
        "print(\"coefficient of features in decision function:\", clf.coef_)\n",
        "print(\"bias:\", clf.intercept_)\n",
        "print(\"number of iterations accross all classes:\", clf.n_iter_)\n",
        "print(\"parameters list for model:\", clf.get_params())"
      ],
      "execution_count": 37,
      "outputs": [
        {
          "output_type": "stream",
          "name": "stdout",
          "text": [
            "using all above combinations\n",
            "log reg prediction: [0 0]\n",
            "log reg prediction score: 0.92\n",
            "coefficient of features in decision function: [[-0.25977341  0.2341419  -0.88200269 -0.35111435]\n",
            " [ 0.05135223 -0.26560597  0.09105536 -0.11445946]\n",
            " [ 0.20842119  0.03146407  0.79094733  0.46557381]]\n",
            "bias: [ 4.1862718   0.91712984 -5.10340164]\n",
            "number of iterations accross all classes: [42]\n",
            "parameters list for model: {'C': 0.1, 'class_weight': 'balanced', 'dual': False, 'fit_intercept': True, 'intercept_scaling': 1, 'l1_ratio': None, 'max_iter': 1000, 'multi_class': 'multinomial', 'n_jobs': None, 'penalty': 'l2', 'random_state': 0, 'solver': 'lbfgs', 'tol': 0.01, 'verbose': 0, 'warm_start': False}\n"
          ]
        }
      ]
    },
    {
      "cell_type": "code",
      "metadata": {
        "colab": {
          "base_uri": "https://localhost:8080/"
        },
        "id": "-e46LRPGvgxs",
        "outputId": "19c01cef-798b-4127-a24b-cd0158fe09a8"
      },
      "source": [
        "print(\"tuning C using all above combinations for stronger regularisation\")\n",
        "clf = LogisticRegression(random_state=0, max_iter=1000, tol=0.01, multi_class='multinomial', class_weight='balanced', C= 0.01).fit(X, y, sample_weight = np.random.uniform(low=0.0, high=1.0, size=(150,)))\n",
        "print(\"log reg prediction:\", clf.predict(X[:2, :]))\n",
        "print(\"log reg prediction score:\", clf.score(X, y))\n",
        "print(\"coefficient of features in decision function:\", clf.coef_)\n",
        "print(\"bias:\", clf.intercept_)\n",
        "print(\"number of iterations accross all classes:\", clf.n_iter_)\n",
        "print(\"parameters list for model:\", clf.get_params())"
      ],
      "execution_count": 38,
      "outputs": [
        {
          "output_type": "stream",
          "name": "stdout",
          "text": [
            "tuning C using all above combinations for stronger regularisation\n",
            "log reg prediction: [0 0]\n",
            "log reg prediction score: 0.7333333333333333\n",
            "coefficient of features in decision function: [[-0.10083708  0.05557641 -0.30407806 -0.12379092]\n",
            " [ 0.00249148 -0.05393023  0.05472994  0.00277643]\n",
            " [ 0.0983456  -0.00164618  0.24934813  0.12101449]]\n",
            "bias: [ 1.58790014  0.00161533 -1.58951547]\n",
            "number of iterations accross all classes: [32]\n",
            "parameters list for model: {'C': 0.01, 'class_weight': 'balanced', 'dual': False, 'fit_intercept': True, 'intercept_scaling': 1, 'l1_ratio': None, 'max_iter': 1000, 'multi_class': 'multinomial', 'n_jobs': None, 'penalty': 'l2', 'random_state': 0, 'solver': 'lbfgs', 'tol': 0.01, 'verbose': 0, 'warm_start': False}\n"
          ]
        }
      ]
    }
  ]
}