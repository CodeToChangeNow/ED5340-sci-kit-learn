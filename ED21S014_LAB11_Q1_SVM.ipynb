{
  "nbformat": 4,
  "nbformat_minor": 0,
  "metadata": {
    "colab": {
      "name": "ED21S014_LAB11_Q1_SVM",
      "provenance": [],
      "collapsed_sections": []
    },
    "kernelspec": {
      "name": "python3",
      "display_name": "Python 3"
    },
    "language_info": {
      "name": "python"
    }
  },
  "cells": [
    {
      "cell_type": "markdown",
      "metadata": {
        "id": "FOTAwLF5wP8z"
      },
      "source": [
        "LAB 11 Solutions and Explanations\n",
        "\n",
        "Qn 1: Use the weblinks and reproduce the results for Linear regression, Logistic regression, SVM and PCA\n",
        "\n",
        "C) SVM : https://scikit-learn.org/stable/modules/generated/sklearn.svm.SVC.html\n"
      ]
    },
    {
      "cell_type": "code",
      "metadata": {
        "id": "2p2SL3phwUO-"
      },
      "source": [
        "import numpy as np\n",
        "from sklearn.pipeline import make_pipeline\n",
        "from sklearn.preprocessing import StandardScaler\n",
        "from sklearn.svm import SVC"
      ],
      "execution_count": 15,
      "outputs": []
    },
    {
      "cell_type": "code",
      "metadata": {
        "id": "k0yOu4GLwX4n"
      },
      "source": [
        "X = np.array([[-1, -1], [-2, -1], [1, 1], [2, 1]])\n",
        "y = np.array([1, 1, 2, 2])"
      ],
      "execution_count": 16,
      "outputs": []
    },
    {
      "cell_type": "code",
      "metadata": {
        "colab": {
          "base_uri": "https://localhost:8080/"
        },
        "id": "meX0BoV1wYBd",
        "outputId": "9dfff496-32cd-4d70-83e4-4e412f006d6d"
      },
      "source": [
        "print(\"default parameters\")\n",
        "clf = SVC()\n",
        "clf.fit(X, y)\n",
        "print(clf.predict([[-0.8, -1]]))\n",
        "print(\"mean accuracy such that each label set be correctly predicted:\", clf.score(X,y))\n",
        "print(\"0 if correctly fitted, 1 otherwise:\", clf.fit_status_)\n",
        "print(\"intercept_:\", clf.intercept_)\n",
        "print(\"get support vectors:\", clf.support_vectors_)\n",
        "print(\"get indices of support vectors:\", clf.support_)\n",
        "print(\"get number of support vectors for each class:\", clf.n_support_)\n",
        "print(\"parameters list for model:\", clf.get_params())"
      ],
      "execution_count": 17,
      "outputs": [
        {
          "output_type": "stream",
          "name": "stdout",
          "text": [
            "default parameters\n",
            "[1]\n",
            "mean accuracy such that each label set be correctly predicted: 1.0\n",
            "0 if correctly fitted, 1 otherwise: 0\n",
            "intercept_: [1.13245812e-05]\n",
            "get support vectors: [[-1. -1.]\n",
            " [-2. -1.]\n",
            " [ 1.  1.]\n",
            " [ 2.  1.]]\n",
            "get indices of support vectors: [0 1 2 3]\n",
            "get number of support vectors for each class: [2 2]\n",
            "parameters list for model: {'C': 1.0, 'break_ties': False, 'cache_size': 200, 'class_weight': None, 'coef0': 0.0, 'decision_function_shape': 'ovr', 'degree': 3, 'gamma': 'scale', 'kernel': 'rbf', 'max_iter': -1, 'probability': False, 'random_state': None, 'shrinking': True, 'tol': 0.001, 'verbose': False}\n"
          ]
        }
      ]
    },
    {
      "cell_type": "code",
      "metadata": {
        "colab": {
          "base_uri": "https://localhost:8080/"
        },
        "id": "TdLBdsaIwYJt",
        "outputId": "ee17b353-e84a-4e69-a8f3-5a6fe1dfa0f7"
      },
      "source": [
        "print(\"strong regularisation\")\n",
        "clf = SVC(C = 0.1)\n",
        "clf.fit(X, y)\n",
        "print(clf.predict([[-0.8, -1]]))\n",
        "print(\"mean accuracy such that each label set be correctly predicted:\", clf.score(X,y))\n",
        "print(\"0 if correctly fitted, 1 otherwise:\", clf.fit_status_)\n",
        "print(\"intercept_:\", clf.intercept_)\n",
        "print(\"get support vectors:\", clf.support_vectors_)\n",
        "print(\"get indices of support vectors:\", clf.support_)\n",
        "print(\"get number of support vectors for each class:\", clf.n_support_)\n",
        "print(\"parameters list for model:\", clf.get_params())"
      ],
      "execution_count": 18,
      "outputs": [
        {
          "output_type": "stream",
          "name": "stdout",
          "text": [
            "strong regularisation\n",
            "[1]\n",
            "mean accuracy such that each label set be correctly predicted: 1.0\n",
            "0 if correctly fitted, 1 otherwise: 0\n",
            "intercept_: [-0.]\n",
            "get support vectors: [[-1. -1.]\n",
            " [-2. -1.]\n",
            " [ 1.  1.]\n",
            " [ 2.  1.]]\n",
            "get indices of support vectors: [0 1 2 3]\n",
            "get number of support vectors for each class: [2 2]\n",
            "parameters list for model: {'C': 0.1, 'break_ties': False, 'cache_size': 200, 'class_weight': None, 'coef0': 0.0, 'decision_function_shape': 'ovr', 'degree': 3, 'gamma': 'scale', 'kernel': 'rbf', 'max_iter': -1, 'probability': False, 'random_state': None, 'shrinking': True, 'tol': 0.001, 'verbose': False}\n"
          ]
        }
      ]
    },
    {
      "cell_type": "code",
      "metadata": {
        "colab": {
          "base_uri": "https://localhost:8080/"
        },
        "id": "RZxSRJDMwYRN",
        "outputId": "685b88e7-0c14-492d-c278-ffa337ff2705"
      },
      "source": [
        "print(\"change kernel function to linear\")\n",
        "clf = SVC(kernel = 'linear')\n",
        "clf.fit(X, y)\n",
        "print(clf.predict([[-0.8, -1]]))\n",
        "print(\"mean accuracy such that each label set be correctly predicted:\", clf.score(X,y))\n",
        "print(\"Weights assigned to the features when kernel=linear:\", clf.coef_)\n",
        "print(\"0 if correctly fitted, 1 otherwise:\", clf.fit_status_)\n",
        "print(\"intercept_:\", clf.intercept_)\n",
        "print(\"get support vectors:\", clf.support_vectors_)\n",
        "print(\"get indices of support vectors:\", clf.support_)\n",
        "print(\"get number of support vectors for each class:\", clf.n_support_)\n",
        "print(\"parameters list for model:\", clf.get_params())"
      ],
      "execution_count": 19,
      "outputs": [
        {
          "output_type": "stream",
          "name": "stdout",
          "text": [
            "change kernel function to linear\n",
            "[1]\n",
            "mean accuracy such that each label set be correctly predicted: 1.0\n",
            "Weights assigned to the features when kernel=linear: [[0.5 0.5]]\n",
            "0 if correctly fitted, 1 otherwise: 0\n",
            "intercept_: [-0.]\n",
            "get support vectors: [[-1. -1.]\n",
            " [ 1.  1.]]\n",
            "get indices of support vectors: [0 2]\n",
            "get number of support vectors for each class: [1 1]\n",
            "parameters list for model: {'C': 1.0, 'break_ties': False, 'cache_size': 200, 'class_weight': None, 'coef0': 0.0, 'decision_function_shape': 'ovr', 'degree': 3, 'gamma': 'scale', 'kernel': 'linear', 'max_iter': -1, 'probability': False, 'random_state': None, 'shrinking': True, 'tol': 0.001, 'verbose': False}\n"
          ]
        }
      ]
    },
    {
      "cell_type": "code",
      "metadata": {
        "colab": {
          "base_uri": "https://localhost:8080/"
        },
        "id": "eui9m1CSwdaH",
        "outputId": "a8183fdb-6492-452f-b9e5-4ad01107763a"
      },
      "source": [
        "print(\"change kernel function to polynomial of degree 3\")\n",
        "clf = SVC(kernel = 'poly')\n",
        "clf.fit(X, y)\n",
        "print(clf.predict([[-0.8, -1]]))\n",
        "print(\"mean accuracy such that each label set be correctly predicted:\", clf.score(X,y))\n",
        "print(\"0 if correctly fitted, 1 otherwise:\", clf.fit_status_)\n",
        "print(\"intercept_:\", clf.intercept_)\n",
        "print(\"get support vectors:\", clf.support_vectors_)\n",
        "print(\"get indices of support vectors:\", clf.support_)\n",
        "print(\"get number of support vectors for each class:\", clf.n_support_)\n",
        "print(\"parameters list for model:\", clf.get_params())"
      ],
      "execution_count": 20,
      "outputs": [
        {
          "output_type": "stream",
          "name": "stdout",
          "text": [
            "change kernel function to polynomial of degree 3\n",
            "[1]\n",
            "mean accuracy such that each label set be correctly predicted: 1.0\n",
            "0 if correctly fitted, 1 otherwise: 0\n",
            "intercept_: [-0.]\n",
            "get support vectors: [[-1. -1.]\n",
            " [ 1.  1.]]\n",
            "get indices of support vectors: [0 2]\n",
            "get number of support vectors for each class: [1 1]\n",
            "parameters list for model: {'C': 1.0, 'break_ties': False, 'cache_size': 200, 'class_weight': None, 'coef0': 0.0, 'decision_function_shape': 'ovr', 'degree': 3, 'gamma': 'scale', 'kernel': 'poly', 'max_iter': -1, 'probability': False, 'random_state': None, 'shrinking': True, 'tol': 0.001, 'verbose': False}\n"
          ]
        }
      ]
    }
  ]
}